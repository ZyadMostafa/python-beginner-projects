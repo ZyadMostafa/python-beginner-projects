{
  "nbformat": 4,
  "nbformat_minor": 0,
  "metadata": {
    "colab": {
      "name": "Rock,Paper,Scissors.ipynb",
      "provenance": [],
      "collapsed_sections": [],
      "authorship_tag": "ABX9TyNIsj6sei1NZtlaidI5+STC",
      "include_colab_link": true
    },
    "kernelspec": {
      "name": "python3",
      "display_name": "Python 3"
    },
    "language_info": {
      "name": "python"
    }
  },
  "cells": [
    {
      "cell_type": "markdown",
      "metadata": {
        "id": "view-in-github",
        "colab_type": "text"
      },
      "source": [
        "<a href=\"https://colab.research.google.com/github/ZyadMostafa/python-beginner-projects/blob/Projects/Rock%2CPaper%2CScissors.ipynb\" target=\"_parent\"><img src=\"https://colab.research.google.com/assets/colab-badge.svg\" alt=\"Open In Colab\"/></a>"
      ]
    },
    {
      "cell_type": "code",
      "execution_count": 38,
      "metadata": {
        "id": "ojSEsYL7oZPy"
      },
      "outputs": [],
      "source": [
        "import random"
      ]
    },
    {
      "cell_type": "code",
      "source": [
        "user_wins = 0\n",
        "computer_wins = 0\n",
        "options = [\"rock\", \"paper\", \"scissors\"]"
      ],
      "metadata": {
        "id": "AXN-VVFvpVa4"
      },
      "execution_count": 39,
      "outputs": []
    },
    {
      "cell_type": "code",
      "source": [
        "while True:\n",
        "    user_input = input(\"Type Rock/Paper/Scissors or q to quit: \").lower()\n",
        "    if user_input == \"q\":\n",
        "        break\n",
        "\n",
        "    if user_input not in options:\n",
        "        continue\n",
        "\n",
        "    random_number = random.randint(0, 2)\n",
        "    #rock: 0, paper: 1, scissors: 2\n",
        "    computer_pick = options[random_number]\n",
        "    print(\"computer picked\", computer_pick + \".\")\n",
        "\n",
        "    if user_input == \"rock\" and computer_pick == \"scissors\":\n",
        "        print(\"You won!\")\n",
        "        user_wins += 1\n",
        "\n",
        "\n",
        "    elif user_input == \"paper\" and computer_pick == \"rock\":\n",
        "        print(\"You won!\")\n",
        "        user_wins += 1\n",
        "\n",
        "\n",
        "    elif user_input == \"scissors\" and computer_pick == \"paper\":\n",
        "        print(\"You won!\")\n",
        "        user_wins += 1\n",
        "\n",
        "    elif user_input ==  computer_pick:\n",
        "        print(\"Tie!\")\n",
        "\n",
        "    else:\n",
        "        print(\"You lost!\")\n",
        "        computer_wins += 1"
      ],
      "metadata": {
        "colab": {
          "base_uri": "https://localhost:8080/"
        },
        "id": "R5YsWDBLpY3n",
        "outputId": "60e923eb-3219-4db4-8895-a6c117f99856"
      },
      "execution_count": 40,
      "outputs": [
        {
          "name": "stdout",
          "output_type": "stream",
          "text": [
            "Type Rock/Paper/Scissors or q to quit: rock\n",
            "computer picked scissors.\n",
            "You won!\n",
            "Type Rock/Paper/Scissors or q to quit: rock\\\n",
            "Type Rock/Paper/Scissors or q to quit: rock\n",
            "computer picked paper.\n",
            "You lost!\n",
            "Type Rock/Paper/Scissors or q to quit: rock\n",
            "computer picked paper.\n",
            "You lost!\n",
            "Type Rock/Paper/Scissors or q to quit: rock\n",
            "computer picked paper.\n",
            "You lost!\n",
            "Type Rock/Paper/Scissors or q to quit: rock\n",
            "computer picked scissors.\n",
            "You won!\n",
            "Type Rock/Paper/Scissors or q to quit: rock\n",
            "computer picked scissors.\n",
            "You won!\n",
            "Type Rock/Paper/Scissors or q to quit: rock\n",
            "computer picked scissors.\n",
            "You won!\n",
            "Type Rock/Paper/Scissors or q to quit: rock\n",
            "computer picked paper.\n",
            "You lost!\n",
            "Type Rock/Paper/Scissors or q to quit: rock\n",
            "computer picked rock.\n",
            "Tie!\n",
            "Type Rock/Paper/Scissors or q to quit: q\n"
          ]
        }
      ]
    },
    {
      "cell_type": "code",
      "source": [
        "print(\"You won \", user_wins, \" times.\")\n",
        "print(\"The computer won \", computer_wins, \" times.\")\n",
        "print (\"Goodbye!\")"
      ],
      "metadata": {
        "colab": {
          "base_uri": "https://localhost:8080/"
        },
        "id": "iqx8YC6-pc5P",
        "outputId": "794effe7-bc09-423f-d1a4-1909e11f3109"
      },
      "execution_count": 41,
      "outputs": [
        {
          "output_type": "stream",
          "name": "stdout",
          "text": [
            "You won  4  times.\n",
            "The computer won  4  times.\n",
            "Goodbye!\n"
          ]
        }
      ]
    }
  ]
}