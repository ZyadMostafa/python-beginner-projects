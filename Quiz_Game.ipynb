{
  "nbformat": 4,
  "nbformat_minor": 0,
  "metadata": {
    "colab": {
      "name": "Quiz Game.ipynb",
      "provenance": [],
      "collapsed_sections": [],
      "authorship_tag": "ABX9TyOtFVfiKuWJEcEBvZHBzsuJ",
      "include_colab_link": true
    },
    "kernelspec": {
      "name": "python3",
      "display_name": "Python 3"
    },
    "language_info": {
      "name": "python"
    }
  },
  "cells": [
    {
      "cell_type": "markdown",
      "metadata": {
        "id": "view-in-github",
        "colab_type": "text"
      },
      "source": [
        "<a href=\"https://colab.research.google.com/github/ZyadMostafa/python-beginner-projects/blob/Projects/Quiz_Game.ipynb\" target=\"_parent\"><img src=\"https://colab.research.google.com/assets/colab-badge.svg\" alt=\"Open In Colab\"/></a>"
      ]
    },
    {
      "cell_type": "code",
      "execution_count": null,
      "metadata": {
        "id": "mhpK2aPj6LRb"
      },
      "outputs": [],
      "source": [
        "print (\"Welcome to my computer quiz!\")\n",
        "playing = input(\"Do You want to play? \")\n",
        "if playing.lower() != \"yes\":\n",
        "  quit();\n",
        "\n",
        "print(\"Okay! lets play :)\")\n",
        "score = 0\n",
        "numOfQuistions = 0;\n",
        "\n",
        "answer = input(\"What is the correct extension of the Python file? \")\n",
        "if answer.lower() == \".py\":\n",
        "  print('correct!')\n",
        "  score += 1\n",
        "  numOfQuistions += 1\n",
        "else:\n",
        "  print(\"incorrect!\")\n",
        "\n",
        "answer = input(\"Is Python code compiled or interpreted or both? \")\n",
        "if answer.lower() == \"both\":\n",
        "  print('correct!')\n",
        "  score += 1\n",
        "  numOfQuistions += 1\n",
        "else:\n",
        "  print(\"incorrect!\")\n",
        "\n",
        "answer = input(\"Is Python case sensitive when dealing with identifiers? \")\n",
        "if answer.lower() == \"no\":\n",
        "  print('correct!')\n",
        "  score += 1\n",
        "  numOfQuistions += 1\n",
        "else:\n",
        "  print(\"incorrect!\")\n",
        "\n",
        "answer = input(\"4 + 3 % 5 = ? \")\n",
        "if answer.lower() == \"7\":\n",
        "  print('correct!')\n",
        "  score += 1\n",
        "  numOfQuistions += 1\n",
        "else:\n",
        "  print(\"incorrect!\")\n",
        "\n",
        "answer = input(\"Which keyword is used for function in Python language? \")\n",
        "if answer.lower() == \"def\":\n",
        "  print('correct!')\n",
        "  score += 1\n",
        "  numOfQuistions += 1\n",
        "else:\n",
        "  print(\"incorrect!\")\n",
        "\n",
        "print(\"you got \" + str(score) + \" question correct\")\n",
        "print(\"you got \" + str((score/5) * 100) + \" % question correct\")\n"
      ]
    }
  ]
}