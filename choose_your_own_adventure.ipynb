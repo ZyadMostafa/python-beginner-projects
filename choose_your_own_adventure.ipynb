{
  "nbformat": 4,
  "nbformat_minor": 0,
  "metadata": {
    "colab": {
      "name": "choose_your_own_adventure.ipynb",
      "provenance": [],
      "collapsed_sections": [],
      "authorship_tag": "ABX9TyPWMfqqk89YRHhiMQgCS24I",
      "include_colab_link": true
    },
    "kernelspec": {
      "name": "python3",
      "display_name": "Python 3"
    },
    "language_info": {
      "name": "python"
    }
  },
  "cells": [
    {
      "cell_type": "markdown",
      "metadata": {
        "id": "view-in-github",
        "colab_type": "text"
      },
      "source": [
        "<a href=\"https://colab.research.google.com/github/ZyadMostafa/python-beginner-projects/blob/Projects/choose_your_own_adventure.ipynb\" target=\"_parent\"><img src=\"https://colab.research.google.com/assets/colab-badge.svg\" alt=\"Open In Colab\"/></a>"
      ]
    },
    {
      "cell_type": "code",
      "execution_count": 2,
      "metadata": {
        "colab": {
          "base_uri": "https://localhost:8080/"
        },
        "id": "YhiSaxeTiMU1",
        "outputId": "e91becfc-ebf4-4b8d-8396-9ebc2d1f5eef"
      },
      "outputs": [
        {
          "output_type": "stream",
          "name": "stdout",
          "text": [
            "Type your name: zyad\n",
            "Welcome  zyad  to this adventure!\n"
          ]
        }
      ],
      "source": [
        "name = input(\"Type your name: \")\n",
        "print(\"Welcome \", name, \" to this adventure!\")"
      ]
    },
    {
      "cell_type": "code",
      "source": [
        "answer = input (\"You are on a dirt road, it has come to an end and you can go left or right. which way would you like to go? (left,right)\").lower()\n",
        "\n",
        "if answer == \"left\":\n",
        "  answer = input(\"You come to a river, you can walk around it or swim accross? (walk/swim): \").lower()\n",
        "  if answer == \"swim\".lower():\n",
        "    print(\"You swim accross and were eaten by an alligator!\")\n",
        "  elif answer == \"walk\".lower():\n",
        "    print(\"You walked for many miles, ran out of water and you lost the game!\")\n",
        "  else:\n",
        "    print(\"Not a valid option. you lose.\")\n",
        "\n",
        "elif answer == \"right\".lower():\n",
        "  answer = input(\"You come to a bridg, it looks wobbly, do you want to cross it or head back(cross/back) \").lower()\n",
        "  \n",
        "  if answer == \"back\".lower():\n",
        "    print(\"You go back and lose.\")\n",
        "  elif answer == \"cross\".lower():\n",
        "    print(\"You cross the bridge and meet a stranger. Do you talk to them (yes,no)? \")\n",
        "else:\n",
        "  print(\"Not a valid option, you lose.\")"
      ],
      "metadata": {
        "id": "tv2LaxVKitsV"
      },
      "execution_count": null,
      "outputs": []
    },
    {
      "cell_type": "code",
      "source": [
        ""
      ],
      "metadata": {
        "id": "IQp01zswjAic"
      },
      "execution_count": null,
      "outputs": []
    }
  ]
}