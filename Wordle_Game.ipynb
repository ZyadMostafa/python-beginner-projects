{
  "nbformat": 4,
  "nbformat_minor": 0,
  "metadata": {
    "colab": {
      "name": "Wordle_Game.ipynb",
      "provenance": [],
      "collapsed_sections": [],
      "authorship_tag": "ABX9TyOvvbaYR9UTg/wLfWP4gdTC",
      "include_colab_link": true
    },
    "kernelspec": {
      "name": "python3",
      "display_name": "Python 3"
    },
    "language_info": {
      "name": "python"
    }
  },
  "cells": [
    {
      "cell_type": "markdown",
      "metadata": {
        "id": "view-in-github",
        "colab_type": "text"
      },
      "source": [
        "<a href=\"https://colab.research.google.com/github/ZyadMostafa/python-beginner-projects/blob/Projects/Wordle_Game.ipynb\" target=\"_parent\"><img src=\"https://colab.research.google.com/assets/colab-badge.svg\" alt=\"Open In Colab\"/></a>"
      ]
    },
    {
      "cell_type": "code",
      "execution_count": 25,
      "metadata": {
        "id": "x7NmPDYtR3Nq"
      },
      "outputs": [],
      "source": [
        "import random\n",
        "import sys\n",
        "from termcolor import colored"
      ]
    },
    {
      "cell_type": "code",
      "source": [
        "def print_menu():\n",
        "  print(\"Let's play wordle:\")\n",
        "  print(\"Type a 5 letter word and hit enter!\")\n",
        "  print(\"You have only 6 tries to guess he word\")"
      ],
      "metadata": {
        "id": "oO3BHc1aSeKp"
      },
      "execution_count": 26,
      "outputs": []
    },
    {
      "cell_type": "code",
      "source": [
        "def read_random_word():\n",
        "  with open(\"words.txt\") as f:\n",
        "    words = f.read().splitlines()\n",
        "    return random.choice(words)"
      ],
      "metadata": {
        "id": "SWF315GjSvwQ"
      },
      "execution_count": 27,
      "outputs": []
    },
    {
      "cell_type": "code",
      "source": [
        "print_menu()\n",
        "word = read_random_word()\n",
        "for attempt in range(1,7):  #7 is excluded\n",
        "  guess = input().lower()\n",
        "\n",
        "  for i in range(min(len(guess),5)):\n",
        "    if guess[i] == word[i]:\n",
        "      print(colored(guess[i], 'green'), end=\"\")\n",
        "    elif guess[i] in word:\n",
        "      print(colored(guess[i], 'yellow'), end=\"\")\n",
        "    else:\n",
        "      print(guess[i], end=\"\")\n",
        "  print()\n",
        "\n",
        "  if guess == word:\n",
        "    print(\"Congrats! you guessed the word in %i guesses.\" %attempt)\n",
        "  elif attempt == 6:\n",
        "    print(\"Game over! it was '%s'\" %word)"
      ],
      "metadata": {
        "id": "F4E5IvUBTQ23"
      },
      "execution_count": null,
      "outputs": []
    }
  ]
}